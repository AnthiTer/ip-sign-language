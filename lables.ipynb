{
 "cells": [
  {
   "cell_type": "code",
   "execution_count": 10,
   "metadata": {},
   "outputs": [],
   "source": [
    "import numpy as np\n",
    "import os"
   ]
  },
  {
   "cell_type": "code",
   "execution_count": 11,
   "metadata": {},
   "outputs": [],
   "source": [
    "DATA_PATH_HAND = os.path.join('/Users/anthi/Documents/IP/duplicate/signs_hands')\n",
    "DATA_PATH_POSE = os.path.join('/Users/anthi/Documents/IP/duplicate/signs_pose')"
   ]
  },
  {
   "cell_type": "code",
   "execution_count": 12,
   "metadata": {},
   "outputs": [],
   "source": [
    "actions = np.array(['come', 'good', 'goodbye', 'goodmorning', 'happy', 'hi', 'home', 'iloveyou', 'me', 'sorry', 'thankyou', 'you'])"
   ]
  },
  {
   "cell_type": "code",
   "execution_count": 13,
   "metadata": {},
   "outputs": [],
   "source": [
    "label_map = {label:num for num, label in enumerate(actions)}"
   ]
  },
  {
   "cell_type": "code",
   "execution_count": 14,
   "metadata": {},
   "outputs": [],
   "source": [
    "sequences, labels = [], []\n",
    "for action in actions:\n",
    "    sequences_dir = os.path.join(DATA_PATH_POSE, action)\n",
    "    sequence_folders = os.listdir(sequences_dir)\n",
    "    for seq_folder in sequence_folders:\n",
    "            sequence_path = os.path.join(sequences_dir, seq_folder)\n",
    "            if not os.path.isdir(sequence_path):\n",
    "                continue\n",
    "            frame_files = os.listdir(sequence_path)\n",
    "            window = []\n",
    "\n",
    "            for frame_file in frame_files:\n",
    "                \n",
    "                # load the current frame and append it to the window\n",
    "                frame_path = os.path.join(sequence_path, frame_file)\n",
    "                frame = np.load(frame_path)\n",
    "                window.append(frame)\n",
    "            sequences.append(window)\n",
    "            labels.append(label_map[action])"
   ]
  },
  {
   "cell_type": "code",
   "execution_count": 15,
   "metadata": {},
   "outputs": [
    {
     "name": "stdout",
     "output_type": "stream",
     "text": [
      "(1639, 30, 258)\n"
     ]
    }
   ],
   "source": [
    "print(np.array(sequences).shape)"
   ]
  },
  {
   "cell_type": "code",
   "execution_count": 16,
   "metadata": {},
   "outputs": [
    {
     "name": "stdout",
     "output_type": "stream",
     "text": [
      "(1639,)\n"
     ]
    }
   ],
   "source": [
    "print(np.array(labels).shape)"
   ]
  },
  {
   "cell_type": "code",
   "execution_count": 17,
   "metadata": {},
   "outputs": [],
   "source": [
    "np.save('sequences_pose_all.npy', np.array(sequences))\n",
    "np.save('labels_pose_all.npy', np.array(labels))"
   ]
  },
  {
   "cell_type": "code",
   "execution_count": null,
   "metadata": {},
   "outputs": [],
   "source": []
  }
 ],
 "metadata": {
  "kernelspec": {
   "display_name": "IP Sign Language",
   "language": "python",
   "name": "ip"
  },
  "language_info": {
   "codemirror_mode": {
    "name": "ipython",
    "version": 3
   },
   "file_extension": ".py",
   "mimetype": "text/x-python",
   "name": "python",
   "nbconvert_exporter": "python",
   "pygments_lexer": "ipython3",
   "version": "3.9.15"
  },
  "orig_nbformat": 4
 },
 "nbformat": 4,
 "nbformat_minor": 2
}
