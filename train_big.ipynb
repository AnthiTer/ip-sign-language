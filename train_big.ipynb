{
 "cells": [
  {
   "cell_type": "code",
   "execution_count": 1,
   "metadata": {},
   "outputs": [
    {
     "name": "stderr",
     "output_type": "stream",
     "text": [
      "2023-04-26 17:17:46.341766: I tensorflow/core/platform/cpu_feature_guard.cc:193] This TensorFlow binary is optimized with oneAPI Deep Neural Network Library (oneDNN) to use the following CPU instructions in performance-critical operations:  AVX2 AVX512F AVX512_VNNI FMA\n",
      "To enable them in other operations, rebuild TensorFlow with the appropriate compiler flags.\n"
     ]
    }
   ],
   "source": [
    "import numpy as np\n",
    "import matplotlib.pyplot as plt\n",
    "from tensorflow.keras.utils import to_categorical\n",
    "from tensorflow.keras.models import Sequential\n",
    "from tensorflow.keras.layers import LSTM, Dense, LeakyReLU, Dropout, Softmax\n",
    "from tensorflow.keras.callbacks import TensorBoard, EarlyStopping, History, ModelCheckpoint\n",
    "import tensorflow as tf\n",
    "import os"
   ]
  },
  {
   "cell_type": "code",
   "execution_count": 2,
   "metadata": {},
   "outputs": [],
   "source": [
    "sequences = np.load('seq_labels/sequences_pose_all.npy')\n",
    "labels = np.load('seq_labels/labels_pose_all.npy')\n",
    "# actions = np.array(['goodbye', 'hi', 'you', 'me', 'thankyou', 'goodmorning'])\n",
    "# actions = np.array(['come', 'good', 'happy', 'home', 'iloveyou', 'sorry'])\n",
    "actions = np.array(['come', 'good', 'goodbye', 'goodmorning', 'happy', 'hi', 'home', 'iloveyou', 'me', 'sorry', 'thankyou', 'you'])\n",
    "# actions = np.array(['come', 'good', 'goodbye', 'goodmorning', 'happy', 'hi', 'home', 'iloveyou', 'sorry', 'thankyou'])"
   ]
  },
  {
   "cell_type": "code",
   "execution_count": 3,
   "metadata": {},
   "outputs": [],
   "source": [
    "X = np.array(sequences)\n",
    "y = to_categorical(labels).astype(int)"
   ]
  },
  {
   "cell_type": "code",
   "execution_count": 87,
   "metadata": {},
   "outputs": [],
   "source": [
    "file_name = 'big_pose_1st'"
   ]
  },
  {
   "cell_type": "code",
   "execution_count": 88,
   "metadata": {},
   "outputs": [],
   "source": [
    "np.random.seed(42)\n",
    "tf.random.set_seed(42)\n",
    "log_dir = os.path.join('Logs')\n",
    "tb_callback = TensorBoard(log_dir=log_dir)\n",
    "checkpoint_callback = ModelCheckpoint(f'islr_{file_name}.h5', monitor='loss', save_best_only=True)\n",
    "history = History()"
   ]
  },
  {
   "cell_type": "code",
   "execution_count": 89,
   "metadata": {},
   "outputs": [],
   "source": [
    "callback = EarlyStopping(monitor='loss', patience=5, start_from_epoch = 5)"
   ]
  },
  {
   "cell_type": "code",
   "execution_count": 90,
   "metadata": {},
   "outputs": [],
   "source": [
    "model = Sequential()\n",
    "model.add(LSTM(64, return_sequences=True, input_shape=(30, 258)))\n",
    "model.add(LeakyReLU())\n",
    "model.add(Dropout(0.2))\n",
    "model.add(LSTM(128, return_sequences=True))\n",
    "model.add(LeakyReLU())\n",
    "model.add(LSTM(64, return_sequences=False))\n",
    "model.add(LeakyReLU())\n",
    "model.add(Dense(64))\n",
    "model.add(LeakyReLU())\n",
    "model.add(Dense(32))\n",
    "model.add(LeakyReLU())\n",
    "model.add(Dense(actions.shape[0]))\n",
    "model.add(Softmax())"
   ]
  },
  {
   "cell_type": "code",
   "execution_count": 91,
   "metadata": {},
   "outputs": [],
   "source": [
    "model.compile(optimizer='Adam',loss='categorical_crossentropy', metrics=['categorical_accuracy'])"
   ]
  },
  {
   "cell_type": "code",
   "execution_count": 92,
   "metadata": {},
   "outputs": [
    {
     "name": "stdout",
     "output_type": "stream",
     "text": [
      "Epoch 1/100\n",
      "21/21 [==============================] - 9s 92ms/step - loss: 1.7744 - categorical_accuracy: 0.2346\n",
      "Epoch 2/100\n",
      "21/21 [==============================] - 2s 100ms/step - loss: 1.6420 - categorical_accuracy: 0.3008\n",
      "Epoch 3/100\n",
      "21/21 [==============================] - 2s 108ms/step - loss: 1.4243 - categorical_accuracy: 0.3323\n",
      "Epoch 4/100\n",
      "21/21 [==============================] - 3s 130ms/step - loss: 1.2951 - categorical_accuracy: 0.4211\n",
      "Epoch 5/100\n",
      "21/21 [==============================] - 2s 108ms/step - loss: 1.2720 - categorical_accuracy: 0.4376\n",
      "Epoch 6/100\n",
      "21/21 [==============================] - 2s 115ms/step - loss: 1.2233 - categorical_accuracy: 0.4496\n",
      "Epoch 7/100\n",
      "21/21 [==============================] - 2s 106ms/step - loss: 1.0815 - categorical_accuracy: 0.5383\n",
      "Epoch 8/100\n",
      "21/21 [==============================] - 2s 109ms/step - loss: 0.9564 - categorical_accuracy: 0.5714\n",
      "Epoch 9/100\n",
      "21/21 [==============================] - 3s 129ms/step - loss: 0.9125 - categorical_accuracy: 0.6135\n",
      "Epoch 10/100\n",
      "21/21 [==============================] - 3s 139ms/step - loss: 0.8510 - categorical_accuracy: 0.6421\n",
      "Epoch 11/100\n",
      "21/21 [==============================] - 3s 118ms/step - loss: 0.8353 - categorical_accuracy: 0.6241\n",
      "Epoch 12/100\n",
      "21/21 [==============================] - 2s 119ms/step - loss: 0.9100 - categorical_accuracy: 0.6180\n",
      "Epoch 13/100\n",
      "21/21 [==============================] - 3s 131ms/step - loss: 0.7841 - categorical_accuracy: 0.6737\n",
      "Epoch 14/100\n",
      "21/21 [==============================] - 3s 128ms/step - loss: 0.7507 - categorical_accuracy: 0.6737\n",
      "Epoch 15/100\n",
      "21/21 [==============================] - 3s 121ms/step - loss: 0.8719 - categorical_accuracy: 0.6316\n",
      "Epoch 16/100\n",
      "21/21 [==============================] - 3s 131ms/step - loss: 0.7078 - categorical_accuracy: 0.6992\n",
      "Epoch 17/100\n",
      "21/21 [==============================] - 3s 138ms/step - loss: 0.6208 - categorical_accuracy: 0.7684\n",
      "Epoch 18/100\n",
      "21/21 [==============================] - 3s 140ms/step - loss: 0.5980 - categorical_accuracy: 0.7474\n",
      "Epoch 19/100\n",
      "21/21 [==============================] - 3s 130ms/step - loss: 0.6312 - categorical_accuracy: 0.7398\n",
      "Epoch 20/100\n",
      "21/21 [==============================] - 3s 135ms/step - loss: 0.6805 - categorical_accuracy: 0.7143\n",
      "Epoch 21/100\n",
      "21/21 [==============================] - 3s 130ms/step - loss: 0.5026 - categorical_accuracy: 0.8015\n",
      "Epoch 22/100\n",
      "21/21 [==============================] - 3s 127ms/step - loss: 0.5553 - categorical_accuracy: 0.7759\n",
      "Epoch 23/100\n",
      "21/21 [==============================] - 3s 122ms/step - loss: 0.6198 - categorical_accuracy: 0.7564\n",
      "Epoch 24/100\n",
      "21/21 [==============================] - 3s 131ms/step - loss: 0.5411 - categorical_accuracy: 0.7759\n",
      "Epoch 25/100\n",
      "21/21 [==============================] - 3s 153ms/step - loss: 0.4512 - categorical_accuracy: 0.8180\n",
      "Epoch 26/100\n",
      "21/21 [==============================] - 3s 130ms/step - loss: 0.5266 - categorical_accuracy: 0.7895\n",
      "Epoch 27/100\n",
      "21/21 [==============================] - 3s 128ms/step - loss: 0.5298 - categorical_accuracy: 0.7714\n",
      "Epoch 28/100\n",
      "21/21 [==============================] - 3s 132ms/step - loss: 0.5393 - categorical_accuracy: 0.7759\n",
      "Epoch 29/100\n",
      "21/21 [==============================] - 3s 134ms/step - loss: 0.4341 - categorical_accuracy: 0.8105\n",
      "Epoch 30/100\n",
      "21/21 [==============================] - 3s 133ms/step - loss: 0.4235 - categorical_accuracy: 0.8316\n",
      "Epoch 31/100\n",
      "21/21 [==============================] - 3s 136ms/step - loss: 0.4992 - categorical_accuracy: 0.7940\n",
      "Epoch 32/100\n",
      "21/21 [==============================] - 3s 145ms/step - loss: 0.4369 - categorical_accuracy: 0.8331\n",
      "Epoch 33/100\n",
      "21/21 [==============================] - 3s 131ms/step - loss: 0.3769 - categorical_accuracy: 0.8466\n",
      "Epoch 34/100\n",
      "21/21 [==============================] - 3s 136ms/step - loss: 0.3134 - categorical_accuracy: 0.8782\n",
      "Epoch 35/100\n",
      "21/21 [==============================] - 3s 138ms/step - loss: 0.3164 - categorical_accuracy: 0.8812\n",
      "Epoch 36/100\n",
      "21/21 [==============================] - 4s 188ms/step - loss: 0.4056 - categorical_accuracy: 0.8496\n",
      "Epoch 37/100\n",
      "21/21 [==============================] - 3s 138ms/step - loss: 0.4691 - categorical_accuracy: 0.8045\n",
      "Epoch 38/100\n",
      "21/21 [==============================] - 3s 154ms/step - loss: 0.4001 - categorical_accuracy: 0.8376\n",
      "Epoch 39/100\n",
      "21/21 [==============================] - 3s 141ms/step - loss: 0.2891 - categorical_accuracy: 0.8812\n",
      "Epoch 40/100\n",
      "21/21 [==============================] - 3s 142ms/step - loss: 0.2549 - categorical_accuracy: 0.8947\n",
      "Epoch 41/100\n",
      "21/21 [==============================] - 3s 144ms/step - loss: 0.3694 - categorical_accuracy: 0.8526\n",
      "Epoch 42/100\n",
      "21/21 [==============================] - 3s 135ms/step - loss: 0.2857 - categorical_accuracy: 0.8857\n",
      "Epoch 43/100\n",
      "21/21 [==============================] - 3s 137ms/step - loss: 0.2449 - categorical_accuracy: 0.9143\n",
      "Epoch 44/100\n",
      "21/21 [==============================] - 3s 145ms/step - loss: 0.2606 - categorical_accuracy: 0.9008\n",
      "Epoch 45/100\n",
      "21/21 [==============================] - 3s 137ms/step - loss: 0.2021 - categorical_accuracy: 0.9278\n",
      "Epoch 46/100\n",
      "21/21 [==============================] - 3s 137ms/step - loss: 0.3352 - categorical_accuracy: 0.8556\n",
      "Epoch 47/100\n",
      "21/21 [==============================] - 3s 131ms/step - loss: 0.3826 - categorical_accuracy: 0.8556\n",
      "Epoch 48/100\n",
      "21/21 [==============================] - 3s 136ms/step - loss: 0.3100 - categorical_accuracy: 0.8692\n",
      "Epoch 49/100\n",
      "21/21 [==============================] - 3s 133ms/step - loss: 0.3363 - categorical_accuracy: 0.8737\n",
      "Epoch 50/100\n",
      "21/21 [==============================] - 4s 202ms/step - loss: 0.2647 - categorical_accuracy: 0.9083\n"
     ]
    }
   ],
   "source": [
    "history = model.fit(X, y, epochs=100, callbacks=[tb_callback, callback, history, checkpoint_callback], batch_size=32)"
   ]
  },
  {
   "cell_type": "code",
   "execution_count": 100,
   "metadata": {},
   "outputs": [],
   "source": [
    "model.load_weights(f'islr_{file_name}_a.h5')"
   ]
  },
  {
   "cell_type": "code",
   "execution_count": 96,
   "metadata": {},
   "outputs": [],
   "source": [
    "model.save(f'islr_{file_name}_a.h5')"
   ]
  },
  {
   "cell_type": "code",
   "execution_count": 101,
   "metadata": {},
   "outputs": [
    {
     "name": "stdout",
     "output_type": "stream",
     "text": [
      "21/21 [==============================] - 1s 40ms/step - loss: 0.2790 - categorical_accuracy: 0.8977\n",
      "Train accuracy:  0.897744357585907\n",
      "Train loss:  0.27901390194892883\n"
     ]
    }
   ],
   "source": [
    "train_loss, train_acc = model.evaluate(X, y)\n",
    "print('Train accuracy: ', train_acc)\n",
    "print('Train loss: ', train_loss)"
   ]
  },
  {
   "cell_type": "code",
   "execution_count": 39,
   "metadata": {},
   "outputs": [
    {
     "name": "stdout",
     "output_type": "stream",
     "text": [
      "Model: \"sequential_2\"\n",
      "_________________________________________________________________\n",
      " Layer (type)                Output Shape              Param #   \n",
      "=================================================================\n",
      " lstm_3 (LSTM)               (None, 30, 64)            82688     \n",
      "                                                                 \n",
      " leaky_re_lu_4 (LeakyReLU)   (None, 30, 64)            0         \n",
      "                                                                 \n",
      " dropout (Dropout)           (None, 30, 64)            0         \n",
      "                                                                 \n",
      " lstm_4 (LSTM)               (None, 30, 128)           98816     \n",
      "                                                                 \n",
      " leaky_re_lu_5 (LeakyReLU)   (None, 30, 128)           0         \n",
      "                                                                 \n",
      " lstm_5 (LSTM)               (None, 64)                49408     \n",
      "                                                                 \n",
      " leaky_re_lu_6 (LeakyReLU)   (None, 64)                0         \n",
      "                                                                 \n",
      " dense_3 (Dense)             (None, 64)                4160      \n",
      "                                                                 \n",
      " leaky_re_lu_7 (LeakyReLU)   (None, 64)                0         \n",
      "                                                                 \n",
      " dense_4 (Dense)             (None, 32)                2080      \n",
      "                                                                 \n",
      " leaky_re_lu_8 (LeakyReLU)   (None, 32)                0         \n",
      "                                                                 \n",
      " dense_5 (Dense)             (None, 6)                 198       \n",
      "                                                                 \n",
      " softmax (Softmax)           (None, 6)                 0         \n",
      "                                                                 \n",
      "=================================================================\n",
      "Total params: 237,350\n",
      "Trainable params: 237,350\n",
      "Non-trainable params: 0\n",
      "_________________________________________________________________\n"
     ]
    }
   ],
   "source": [
    "model.summary()"
   ]
  },
  {
   "cell_type": "code",
   "execution_count": 94,
   "metadata": {},
   "outputs": [
    {
     "data": {
      "image/png": "[encoded data removed]",
      "text/plain": [
       "<Figure size 640x480 with 1 Axes>"
      ]
     },
     "metadata": {},
     "output_type": "display_data"
    }
   ],
   "source": [
    "plt.plot(history.history['categorical_accuracy'],label='Training Accuracy')\n",
    "plt.plot(history.history['loss'],label='Training Loss')\n",
    "plt.axhline(y=1, color='r', linestyle='-', label='Target Accuracy')\n",
    "plt.xlabel('Epochs')\n",
    "plt.ylabel('Accuracy and Loss')\n",
    "plt.title('Categorical Accuracy and Loss')\n",
    "plt.legend()\n",
    "# plt.savefig(f'graphs/accuracy_{file_name}.png')\n",
    "plt.show()"
   ]
  },
  {
   "cell_type": "code",
   "execution_count": 95,
   "metadata": {},
   "outputs": [
    {
     "name": "stdout",
     "output_type": "stream",
     "text": [
      "Epochs:  50\n"
     ]
    }
   ],
   "source": [
    "ep = len(history.history['loss'])\n",
    "print('Epochs: ', ep)"
   ]
  },
  {
   "cell_type": "code",
   "execution_count": null,
   "metadata": {},
   "outputs": [],
   "source": []
  },
  {
   "cell_type": "code",
   "execution_count": null,
   "metadata": {},
   "outputs": [],
   "source": []
  }
 ],
 "metadata": {
  "kernelspec": {
   "display_name": "IP Sign Language",
   "language": "python",
   "name": "ip"
  },
  "language_info": {
   "codemirror_mode": {
    "name": "ipython",
    "version": 3
   },
   "file_extension": ".py",
   "mimetype": "text/x-python",
   "name": "python",
   "nbconvert_exporter": "python",
   "pygments_lexer": "ipython3",
   "version": "3.9.15"
  },
  "orig_nbformat": 4,
  "vscode": {
   "interpreter": {
    "hash": "531260c944c4fb2819547d51be0954b13dce320d01059a0f0df933063d55a3f2"
   }
  }
 },
 "nbformat": 4,
 "nbformat_minor": 2
}
